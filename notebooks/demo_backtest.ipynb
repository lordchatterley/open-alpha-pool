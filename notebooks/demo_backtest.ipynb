{
 "cells": [
  {
   "cell_type": "code",
   "execution_count": 2,
   "id": "ecef566a",
   "metadata": {},
   "outputs": [
    {
     "ename": "TypeError",
     "evalue": "Index must be a MultiIndex",
     "output_type": "error",
     "traceback": [
      "\u001b[31m---------------------------------------------------------------------------\u001b[39m",
      "\u001b[31mTypeError\u001b[39m                                 Traceback (most recent call last)",
      "\u001b[32m/var/folders/tf/dct8m5jj4f55ff41l7zgvjq80000gn/T/ipykernel_27311/577393511.py\u001b[39m in \u001b[36m?\u001b[39m\u001b[34m()\u001b[39m\n\u001b[32m      7\u001b[39m tickers = [\u001b[33m\"AAPL\"\u001b[39m, \u001b[33m\"MSFT\"\u001b[39m, \u001b[33m\"AMZN\"\u001b[39m, \u001b[33m\"GOOG\"\u001b[39m, \u001b[33m\"TSLA\"\u001b[39m]\n\u001b[32m      8\u001b[39m \n\u001b[32m      9\u001b[39m \u001b[38;5;66;03m# --- 2. Fetch & store data ---\u001b[39;00m\n\u001b[32m     10\u001b[39m df = data_handler.fetch_polygon_data(tickers, start=\u001b[33m\"2020-01-01\"\u001b[39m)\n\u001b[32m---> \u001b[39m\u001b[32m11\u001b[39m df_close = df.xs(\u001b[33m\"Close\"\u001b[39m, axis=\u001b[32m1\u001b[39m, level=\u001b[32m1\u001b[39m)  \u001b[38;5;66;03m# Extract close prices\u001b[39;00m\n\u001b[32m     12\u001b[39m df_close = df_close.dropna(how=\u001b[33m\"all\"\u001b[39m)       \u001b[38;5;66;03m# Clean missing values\u001b[39;00m\n\u001b[32m     13\u001b[39m \n\u001b[32m     14\u001b[39m print(\u001b[33m\"Sample prices:\"\u001b[39m)\n",
      "\u001b[32m~/Downloads/chain_of_alpha_nasdaq/env/lib/python3.13/site-packages/pandas/core/generic.py\u001b[39m in \u001b[36m?\u001b[39m\u001b[34m(self, key, axis, level, drop_level)\u001b[39m\n\u001b[32m   4288\u001b[39m             \u001b[38;5;28;01mraise\u001b[39;00m TypeError(\u001b[33m\"list keys are not supported in xs, pass a tuple instead\"\u001b[39m)\n\u001b[32m   4289\u001b[39m \n\u001b[32m   4290\u001b[39m         \u001b[38;5;28;01mif\u001b[39;00m level \u001b[38;5;28;01mis\u001b[39;00m \u001b[38;5;28;01mnot\u001b[39;00m \u001b[38;5;28;01mNone\u001b[39;00m:\n\u001b[32m   4291\u001b[39m             \u001b[38;5;28;01mif\u001b[39;00m \u001b[38;5;28;01mnot\u001b[39;00m isinstance(labels, MultiIndex):\n\u001b[32m-> \u001b[39m\u001b[32m4292\u001b[39m                 \u001b[38;5;28;01mraise\u001b[39;00m TypeError(\u001b[33m\"Index must be a MultiIndex\"\u001b[39m)\n\u001b[32m   4293\u001b[39m             loc, new_ax = labels.get_loc_level(key, level=level, drop_level=drop_level)\n\u001b[32m   4294\u001b[39m \n\u001b[32m   4295\u001b[39m             \u001b[38;5;66;03m# create the tuple of the indexer\u001b[39;00m\n",
      "\u001b[31mTypeError\u001b[39m: Index must be a MultiIndex"
     ]
    }
   ],
   "source": [
    "# --- 1. Setup ---\n",
    "import pandas as pd\n",
    "import matplotlib.pyplot as plt\n",
    "from chain_of_alpha_nasdaq import data_handler, backtest\n",
    "\n",
    "# Pick a few NASDAQ tickers for demo (expand later)\n",
    "tickers = [\"AAPL\", \"MSFT\", \"AMZN\", \"GOOG\", \"TSLA\"]\n",
    "\n",
    "# --- 2. Fetch & store data ---\n",
    "df = data_handler.fetch_polygon_data(tickers, start=\"2020-01-01\")\n",
    "df_close = df.xs(\"Close\", axis=1, level=1)  # Extract close prices\n",
    "df_close = df_close.dropna(how=\"all\")       # Clean missing values\n",
    "\n",
    "print(\"Sample prices:\")\n",
    "display(df_close.head())\n",
    "\n",
    "# --- 3. Define simple momentum factor ---\n",
    "# Factor = past 5-day return\n",
    "momentum_factor = df_close.pct_change(5).shift(1)\n",
    "\n",
    "print(\"Sample momentum signals:\")\n",
    "display(momentum_factor.head())\n",
    "\n",
    "# --- 4. Run backtest ---\n",
    "bt = backtest.Backtester(prices=df_close, signals=momentum_factor, top_k=2, cost=0.001)\n",
    "results = bt.run()\n",
    "\n",
    "print(\"Backtest results:\")\n",
    "display(results.describe())\n",
    "\n",
    "# --- 5. Plot performance ---\n",
    "cumulative_returns = (1 + results).cumprod()\n",
    "cumulative_returns.plot(figsize=(10,5), title=\"Cumulative Portfolio Return (Momentum Factor)\")\n",
    "plt.axhline(1.0, color=\"black\", linestyle=\"--\")\n",
    "plt.show()\n"
   ]
  }
 ],
 "metadata": {
  "kernelspec": {
   "display_name": "env",
   "language": "python",
   "name": "python3"
  },
  "language_info": {
   "codemirror_mode": {
    "name": "ipython",
    "version": 3
   },
   "file_extension": ".py",
   "mimetype": "text/x-python",
   "name": "python",
   "nbconvert_exporter": "python",
   "pygments_lexer": "ipython3",
   "version": "3.13.2"
  }
 },
 "nbformat": 4,
 "nbformat_minor": 5
}
